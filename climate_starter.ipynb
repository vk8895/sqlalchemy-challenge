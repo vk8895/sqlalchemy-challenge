{
 "cells": [
  {
   "cell_type": "code",
   "execution_count": 16,
   "metadata": {},
   "outputs": [],
   "source": [
    "%matplotlib inline\n",
    "import numpy as np\n",
    "import pandas as pd\n",
    "import datetime as dt\n",
    "import scipy.stats as stats\n",
    "from matplotlib import style\n",
    "style.use('fivethirtyeight')\n",
    "import matplotlib.pyplot as plt"
   ]
  },
  {
   "cell_type": "markdown",
   "metadata": {},
   "source": [
    "# Reflect Tables into SQLAlchemy ORM"
   ]
  },
  {
   "cell_type": "code",
   "execution_count": 17,
   "metadata": {},
   "outputs": [],
   "source": [
    "# Python SQL toolkit and Object Relational Mapper\n",
    "import sqlalchemy\n",
    "from sqlalchemy.ext.automap import automap_base\n",
    "from sqlalchemy.orm import Session\n",
    "from sqlalchemy import create_engine, inspect, func"
   ]
  },
  {
   "cell_type": "code",
   "execution_count": 18,
   "metadata": {},
   "outputs": [],
   "source": [
    "engine = create_engine(\"sqlite:///Resources/hawaii.sqlite\")\n",
    "Base = automap_base()"
   ]
  },
  {
   "cell_type": "code",
   "execution_count": 19,
   "metadata": {},
   "outputs": [],
   "source": [
    "# reflect an existing database into a new model\n",
    "Base = automap_base()\n",
    "\n",
    "# reflect the tables\n",
    "Base.prepare(engine,reflect=True)"
   ]
  },
  {
   "cell_type": "code",
   "execution_count": 20,
   "metadata": {},
   "outputs": [
    {
     "data": {
      "text/plain": [
       "['measurement', 'station']"
      ]
     },
     "execution_count": 20,
     "metadata": {},
     "output_type": "execute_result"
    }
   ],
   "source": [
    "# We can view all of the classes that automap found\n",
    "Base.classes.keys()"
   ]
  },
  {
   "cell_type": "code",
   "execution_count": 21,
   "metadata": {},
   "outputs": [],
   "source": [
    "# Save references to each table\n",
    "Measurement = Base.classes.measurement\n",
    "Station = Base.classes.station"
   ]
  },
  {
   "cell_type": "code",
   "execution_count": 22,
   "metadata": {},
   "outputs": [],
   "source": [
    "# Create our session (link) from Python to the DB\n",
    "session = Session(engine)"
   ]
  },
  {
   "cell_type": "code",
   "execution_count": null,
   "metadata": {},
   "outputs": [],
   "source": []
  },
  {
   "cell_type": "markdown",
   "metadata": {},
   "source": [
    "# Exploratory Climate Analysis"
   ]
  },
  {
   "cell_type": "code",
   "execution_count": 23,
   "metadata": {},
   "outputs": [
    {
     "data": {
      "text/plain": [
       "Text(0.5, 1.0, 'Hawaii Prcp over last 12 months')"
      ]
     },
     "execution_count": 23,
     "metadata": {},
     "output_type": "execute_result"
    },
    {
     "data": {
      "image/png": "[encoded data removed]",
      "text/plain": [
       "<Figure size 432x288 with 1 Axes>"
      ]
     },
     "metadata": {},
     "output_type": "display_data"
    }
   ],
   "source": [
    "# Precipitation Analysis\n",
    "\n",
    "# Design a query to retrieve the last 12 months of precipitation data \n",
    "\n",
    "# Calculate last date in the database\n",
    "last_date = session.query(Measurement.date).order_by(Measurement.date.desc()).first()\n",
    "\n",
    "#converting to datetime format\n",
    "last_date = dt.date(2017, 8, 23)\n",
    "\n",
    "# Calculate the date 1 year ago from the last data point in the database\n",
    "last_year = last_date - dt.timedelta(days=365)\n",
    "#year before last date = 8/23/16 from outputs\n",
    "\n",
    "# Perform a query to retrieve the data and precipitation scores\n",
    "last_year_temp_prcp = session.query(Measurement.date, Measurement.prcp).\\\n",
    "    filter(Measurement.date >= '2016-08-23').\\\n",
    "    filter(Measurement.date <= '2017-08-23').all()\n",
    "\n",
    "# Save the query results as a Pandas DataFrame and set the index to the date column\n",
    "df_last_year = pd.DataFrame(last_year_temp_prcp, columns=['Date','Prcp (in)'])\n",
    "\n",
    "# Sort the dataframe by date\n",
    "df_last_year = df_last_year.sort_values('Date')\n",
    "\n",
    "# Use Pandas Plotting with Matplotlib to plot the data\n",
    "date = df_last_year['Date'].tolist()\n",
    "prcp = df_last_year['Prcp (in)'].tolist()\n",
    "\n",
    "# Make dates readable\n",
    "date = [dt.datetime.strptime(d,\"%Y-%m-%d\").date() for d in date]\n",
    "\n",
    "# Plot precipitation over time\n",
    "plt.bar(date, prcp, color = 'blue')\n",
    "plt.xticks(rotation=90)\n",
    "plt.xlabel('Date')\n",
    "plt.ylabel('Prcp (in)')\n",
    "plt.title('Hawaii Prcp over last 12 months')\n"
   ]
  },
  {
   "cell_type": "code",
   "execution_count": 24,
   "metadata": {},
   "outputs": [
    {
     "data": {
      "text/html": [
       "<div>\n",
       "<style scoped>\n",
       "    .dataframe tbody tr th:only-of-type {\n",
       "        vertical-align: middle;\n",
       "    }\n",
       "\n",
       "    .dataframe tbody tr th {\n",
       "        vertical-align: top;\n",
       "    }\n",
       "\n",
       "    .dataframe thead th {\n",
       "        text-align: right;\n",
       "    }\n",
       "</style>\n",
       "<table border=\"1\" class=\"dataframe\">\n",
       "  <thead>\n",
       "    <tr style=\"text-align: right;\">\n",
       "      <th></th>\n",
       "      <th>Prcp Summary</th>\n",
       "      <th>Data (in)</th>\n",
       "    </tr>\n",
       "  </thead>\n",
       "  <tbody>\n",
       "    <tr>\n",
       "      <th>0</th>\n",
       "      <td>Mean</td>\n",
       "      <td>0.177</td>\n",
       "    </tr>\n",
       "    <tr>\n",
       "      <th>1</th>\n",
       "      <td>Median</td>\n",
       "      <td>0.020</td>\n",
       "    </tr>\n",
       "    <tr>\n",
       "      <th>2</th>\n",
       "      <td>Stdev</td>\n",
       "      <td>0.461</td>\n",
       "    </tr>\n",
       "    <tr>\n",
       "      <th>3</th>\n",
       "      <td>Var</td>\n",
       "      <td>0.213</td>\n",
       "    </tr>\n",
       "    <tr>\n",
       "      <th>4</th>\n",
       "      <td>SE</td>\n",
       "      <td>0.010</td>\n",
       "    </tr>\n",
       "  </tbody>\n",
       "</table>\n",
       "</div>"
      ],
      "text/plain": [
       "  Prcp Summary Data (in)\n",
       "0         Mean     0.177\n",
       "1       Median     0.020\n",
       "2        Stdev     0.461\n",
       "3          Var     0.213\n",
       "4           SE     0.010"
      ]
     },
     "execution_count": 24,
     "metadata": {},
     "output_type": "execute_result"
    }
   ],
   "source": [
    "# Use Pandas to calcualte the summary statistics for the precipitation data\n",
    "avg = df_last_year['Prcp (in)'].mean()\n",
    "med = df_last_year['Prcp (in)'].median()\n",
    "stdev = df_last_year['Prcp (in)'].std()\n",
    "var = df_last_year['Prcp (in)'].var()\n",
    "sem = df_last_year['Prcp (in)'].sem()\n",
    "\n",
    "# Make into dataframe\n",
    "stats = {'Prcp Summary': ['Mean', 'Median', 'Stdev', 'Var', 'SE'],\n",
    "         'Data (in)': [avg, med, stdev, var, sem]}\n",
    "stats = pd.DataFrame(stats)\n",
    "\n",
    "# Cleanup Formatting\n",
    "stats[\"Data (in)\"] = stats[\"Data (in)\"].map(\"{:.3f}\".format)\n",
    "\n",
    "stats"
   ]
  },
  {
   "cell_type": "code",
   "execution_count": 25,
   "metadata": {},
   "outputs": [
    {
     "data": {
      "text/plain": [
       "9"
      ]
     },
     "execution_count": 25,
     "metadata": {},
     "output_type": "execute_result"
    }
   ],
   "source": [
    "# Design a query to show the stations that are available in this dataset?\n",
    "session.query(Measurement.station).distinct().all()\n",
    "\n",
    "# Design a query to show how many stations are available in this dataset?\n",
    "session.query(Measurement.station).distinct().count()"
   ]
  },
  {
   "cell_type": "code",
   "execution_count": 26,
   "metadata": {},
   "outputs": [
    {
     "data": {
      "text/plain": [
       "[('USC00519281', 2772),\n",
       " ('USC00519397', 2724),\n",
       " ('USC00513117', 2709),\n",
       " ('USC00519523', 2669),\n",
       " ('USC00516128', 2612),\n",
       " ('USC00514830', 2202),\n",
       " ('USC00511918', 1979),\n",
       " ('USC00517948', 1372),\n",
       " ('USC00518838', 511)]"
      ]
     },
     "execution_count": 26,
     "metadata": {},
     "output_type": "execute_result"
    }
   ],
   "source": [
    "# Station Analysis (whole data set)\n",
    "\n",
    "# What are the most active stations? (i.e. what stations have the most rows)?\n",
    "session.query(Measurement.station, func.count(Measurement.station)).group_by(Measurement.station).all()\n",
    "\n",
    "# List the stations and the counts in descending order.\n",
    "session.query(Measurement.station, func.count(Measurement.station)).group_by(Measurement.station).order_by(func.count(Measurement.station).desc()).all()"
   ]
  },
  {
   "cell_type": "code",
   "execution_count": 39,
   "metadata": {},
   "outputs": [
    {
     "data": {
      "text/plain": [
       "[54.0, 71.66378066378067, 85.0]"
      ]
     },
     "execution_count": 39,
     "metadata": {},
     "output_type": "execute_result"
    }
   ],
   "source": [
    "# USC00519281 is the most active station over the 7 year span of data with 2772 temperature observations\n",
    "\n",
    "# Filter for this station: \n",
    "st_519281 = session.query(Measurement.date, Measurement.prcp, Measurement.tobs).\\\n",
    "    filter(Measurement.station == 'USC00519281').all()\n",
    "\n",
    "# Create DataFrame for this station\n",
    "df_519281 = pd.DataFrame(st_519281, columns=['Date','Prcp (in)','Tobs (F)'])\n",
    "\n",
    "# Calculate the lowest temperature recorded \n",
    "Tmin = df_519281['Tobs (F)'].min()\n",
    "\n",
    "# Calculate the highest temperature recorded\n",
    "Tmax = df_519281['Tobs (F)'].max()\n",
    "\n",
    "# Calculate the average temperature recorded\n",
    "Tavg = df_519281['Tobs (F)'].mean()\n",
    "\n",
    "Temp_list_519281 = [Tmin, Tavg, Tmax]\n",
    "Temp_list_519281"
   ]
  },
  {
   "cell_type": "code",
   "execution_count": 28,
   "metadata": {},
   "outputs": [
    {
     "data": {
      "text/plain": [
       "Text(0, 0.5, 'Frequency Count')"
      ]
     },
     "execution_count": 28,
     "metadata": {},
     "output_type": "execute_result"
    },
    {
     "data": {
      "image/png": "[encoded data removed]",
      "text/plain": [
       "<Figure size 432x288 with 1 Axes>"
      ]
     },
     "metadata": {},
     "output_type": "display_data"
    }
   ],
   "source": [
    "# Choose the station with the highest number of temperature observations.\n",
    "# USC00519281 is the most active station over the 7 year span of data with 2772 temperature observations\n",
    "\n",
    "# Query the last 12 months of temperature observation data for this station \n",
    "last_year_519281 = session.query(Measurement.date, Measurement.tobs).\\\n",
    "    filter(Measurement.station == 'USC00519281').\\\n",
    "    filter(Measurement.date >= '2016-08-23').\\\n",
    "    filter(Measurement.date <= '2017-08-23').all()\n",
    "\n",
    "# Create DataFrame for this station in the last year\n",
    "df_last_year_519281 = pd.DataFrame(last_year_519281, columns=['Date','Tobs (F)'])\n",
    "\n",
    "# Plot frequency of temperatures on a histogram (use 12 bins)\n",
    "df_last_year_519281.hist(bins=12)\n",
    "plt.title(\"Temp Frequency at Station USC00519281 from 8/16 - 8/17\")\n",
    "plt.xlabel(\"Temperature (F)\")\n",
    "plt.ylabel(\"Frequency Count\")"
   ]
  },
  {
   "cell_type": "markdown",
   "metadata": {},
   "source": [
    "## Bonus Challenge Assignment"
   ]
  },
  {
   "cell_type": "code",
   "execution_count": 29,
   "metadata": {},
   "outputs": [
    {
     "data": {
      "text/plain": [
       "Ttest_indResult(statistic=31.60372399000329, pvalue=3.9025129038616655e-191)"
      ]
     },
     "execution_count": 29,
     "metadata": {},
     "output_type": "execute_result"
    }
   ],
   "source": [
    "import scipy.stats as stats\n",
    "\n",
    "# Bonus 1: Hawaii weather is perceived to be mild all year. Is this true? Verify w June/Dec temp data. \n",
    "\n",
    "# 1: Pull all temperature data to create master dataset\n",
    "All_data = session.query(Measurement.date, Measurement.tobs).all()\n",
    "All_data = pd.DataFrame(All_data, columns=['Date','Tobs (F)'])\n",
    "\n",
    "# 2: Filter only for June Data\n",
    "June_data = All_data[pd.to_datetime(All_data['Date']).dt.month == 6]\n",
    "June_temp = June_data['Tobs (F)'].tolist()\n",
    "\n",
    "# 3: Filter only for December Data\n",
    "Dec_data = All_data[pd.to_datetime(All_data['Date']).dt.month == 12]\n",
    "Dec_temp = Dec_data['Tobs (F)'].tolist()\n",
    "\n",
    "# 4: Perform Independent T-Test\n",
    "stats.ttest_ind(June_temp, Dec_temp)\n"
   ]
  },
  {
   "cell_type": "code",
   "execution_count": 40,
   "metadata": {},
   "outputs": [
    {
     "data": {
      "text/plain": [
       "[74.94411764705882, 71.04152933421226]"
      ]
     },
     "execution_count": 40,
     "metadata": {},
     "output_type": "execute_result"
    }
   ],
   "source": [
    "June_data['Tobs (F)'].mean()\n",
    "Dec_data['Tobs (F)'].mean()\n",
    "\n",
    "means = [June_data['Tobs (F)'].mean(), Dec_data['Tobs (F)'].mean()]\n",
    "means"
   ]
  },
  {
   "cell_type": "markdown",
   "metadata": {},
   "source": [
    "Analysis/Interpretation of independent t-test:\n",
    "\n",
    "1) Unpaired t-test was used over paired t-test b/c two independent variables (June_temp, Dec_temp) were being checked to see if they could be from the same group or not...in other words, is there a significant difference in the mean of the two sets of temperatures or not? An unpaired t-test is better positioned to answer this question, because rephrasing it from a Hawaii vacation planning perspective, the question becomes, is there a significant difference in June and Dec temperatures? Paired t-test is better positioned to answer before/after studies, or comparing two related groups...neither of which is the case here. \n",
    "\n",
    "2) t-test is interpreted through hypothesis testing:\n",
    "Null hypothesis - mean of June data = mean of Dec data (indication that temperature is the same in June/Dec)\n",
    "Alt hypothesis - means/temps are not same in June and Dec\n",
    "If p-value < 0.05, reject the null hypothesis. \n",
    "\n",
    "3) Conclusion\n",
    "Given that the p-value = 3.9e-191, which is much less than 0.05, we can reject the null hypothesis. June and Dec mean temperature difference is statistically significant. Doing a quick mean calc (above) shows June mean of 75F and Dec mean of 71F. Per statistics, this is significant at the 95% confidence level. However; statistics aside, 75 vs. 71 F feeling on the body may not be a big difference at all...in fact temperatures during the same day would vary more. \n",
    "\n",
    "So taking into account both statistics and just general human feeling, one can reasonably say that while the difference in mean temperatures in June/Dec is statistically significant, it may not be kinesthetically significant enough to alter vacation plans, change clothes packed etc. b/c the difference is only 4F at temperatures > 70F."
   ]
  },
  {
   "cell_type": "code",
   "execution_count": 31,
   "metadata": {},
   "outputs": [
    {
     "name": "stdout",
     "output_type": "stream",
     "text": [
      "[(62.0, 69.57142857142857, 74.0)]\n"
     ]
    }
   ],
   "source": [
    "# Climate App (Hawaii.app) runs this code section\n",
    "\n",
    "# This function called `calc_temps` will accept start date and end date in the format '%Y-%m-%d' \n",
    "# and return the minimum, average, and maximum temperatures for that range of dates\n",
    "def calc_temps(start_date, end_date):\n",
    "    \"\"\"TMIN, TAVG, and TMAX for a list of dates.\n",
    "    \n",
    "    Args:\n",
    "        start_date (string): A date string in the format %Y-%m-%d\n",
    "        end_date (string): A date string in the format %Y-%m-%d\n",
    "        \n",
    "    Returns:\n",
    "        TMIN, TAVE, and TMAX\n",
    "    \"\"\"\n",
    "    \n",
    "    return session.query(func.min(Measurement.tobs), func.avg(Measurement.tobs), func.max(Measurement.tobs)).\\\n",
    "        filter(Measurement.date >= start_date).filter(Measurement.date <= end_date).all()\n",
    "\n",
    "# function usage example\n",
    "print(calc_temps('2012-02-28', '2012-03-05'))"
   ]
  },
  {
   "cell_type": "code",
   "execution_count": 32,
   "metadata": {},
   "outputs": [],
   "source": [
    "#Bonus #2 \n",
    "\n",
    "# Use your previous function `calc_temps` to calculate the tmin, tavg, and tmax \n",
    "# for your trip using the previous year's data for those same dates.\n"
   ]
  },
  {
   "cell_type": "code",
   "execution_count": 33,
   "metadata": {},
   "outputs": [],
   "source": [
    "# Plot the results from your previous query as a bar chart. \n",
    "# Use \"Trip Avg Temp\" as your Title\n",
    "# Use the average temperature for the y value\n",
    "# Use the peak-to-peak (tmax-tmin) value as the y error bar (yerr)\n"
   ]
  },
  {
   "cell_type": "code",
   "execution_count": 34,
   "metadata": {},
   "outputs": [],
   "source": [
    "# Calculate the total amount of rainfall per weather station for your trip dates using the previous year's matching dates.\n",
    "# Sort this in descending order by precipitation amount and list the station, name, latitude, longitude, and elevation\n",
    "\n"
   ]
  },
  {
   "cell_type": "code",
   "execution_count": 35,
   "metadata": {},
   "outputs": [
    {
     "data": {
      "text/plain": [
       "[(62.0, 69.15384615384616, 77.0)]"
      ]
     },
     "execution_count": 35,
     "metadata": {},
     "output_type": "execute_result"
    }
   ],
   "source": [
    "# Create a query that will calculate the daily normals \n",
    "# (i.e. the averages for tmin, tmax, and tavg for all historic data matching a specific month and day)\n",
    "\n",
    "def daily_normals(date):\n",
    "    \"\"\"Daily Normals.\n",
    "    \n",
    "    Args:\n",
    "        date (str): A date string in the format '%m-%d'\n",
    "        \n",
    "    Returns:\n",
    "        A list of tuples containing the daily normals, tmin, tavg, and tmax\n",
    "    \n",
    "    \"\"\"\n",
    "    \n",
    "    sel = [func.min(Measurement.tobs), func.avg(Measurement.tobs), func.max(Measurement.tobs)]\n",
    "    return session.query(*sel).filter(func.strftime(\"%m-%d\", Measurement.date) == date).all()\n",
    "    \n",
    "daily_normals(\"01-01\")"
   ]
  },
  {
   "cell_type": "code",
   "execution_count": 36,
   "metadata": {},
   "outputs": [],
   "source": [
    "# calculate the daily normals for your trip\n",
    "# push each tuple of calculations into a list called `normals`\n",
    "\n",
    "# Set the start and end date of the trip\n",
    "\n",
    "# Use the start and end date to create a range of dates\n",
    "\n",
    "# Stip off the year and save a list of %m-%d strings\n",
    "\n",
    "# Loop through the list of %m-%d strings and calculate the normals for each date\n"
   ]
  },
  {
   "cell_type": "code",
   "execution_count": 37,
   "metadata": {},
   "outputs": [],
   "source": [
    "# Load the previous query results into a Pandas DataFrame and add the `trip_dates` range as the `date` index\n"
   ]
  },
  {
   "cell_type": "code",
   "execution_count": 38,
   "metadata": {},
   "outputs": [],
   "source": [
    "# Plot the daily normals as an area plot with `stacked=False`\n"
   ]
  }
 ],
 "metadata": {
  "kernel_info": {
   "name": "python3"
  },
  "kernelspec": {
   "display_name": "Python 3",
   "language": "python",
   "name": "python3"
  },
  "language_info": {
   "codemirror_mode": {
    "name": "ipython",
    "version": 3
   },
   "file_extension": ".py",
   "mimetype": "text/x-python",
   "name": "python",
   "nbconvert_exporter": "python",
   "pygments_lexer": "ipython3",
   "version": "3.7.6"
  },
  "nteract": {
   "version": "0.12.3"
  },
  "varInspector": {
   "cols": {
    "lenName": 16,
    "lenType": 16,
    "lenVar": 40
   },
   "kernels_config": {
    "python": {
     "delete_cmd_postfix": "",
     "delete_cmd_prefix": "del ",
     "library": "var_list.py",
     "varRefreshCmd": "print(var_dic_list())"
    },
    "r": {
     "delete_cmd_postfix": ") ",
     "delete_cmd_prefix": "rm(",
     "library": "var_list.r",
     "varRefreshCmd": "cat(var_dic_list()) "
    }
   },
   "types_to_exclude": [
    "module",
    "function",
    "builtin_function_or_method",
    "instance",
    "_Feature"
   ],
   "window_display": false
  }
 },
 "nbformat": 4,
 "nbformat_minor": 2
}
